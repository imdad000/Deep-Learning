{
 "cells": [
  {
   "cell_type": "code",
   "execution_count": 93,
   "metadata": {},
   "outputs": [],
   "source": [
    "import pandas as pd\n",
    "from bs4 import BeautifulSoup\n",
    "import requests\n",
    "import csv\n",
    "import re"
   ]
  },
  {
   "cell_type": "code",
   "execution_count": 94,
   "metadata": {},
   "outputs": [],
   "source": [
    "base_url = ' https://main.trai.gov.in/notifications/press-release'\n",
    "headers = {'User-agent': 'Mozilla/5.0'}\n",
    "webpage = requests.get(base_url, headers=headers )"
   ]
  },
  {
   "cell_type": "code",
   "execution_count": 95,
   "metadata": {},
   "outputs": [],
   "source": [
    "soup = BeautifulSoup(webpage.content, \"html.parser\")\n",
    "\n",
    "Title=soup.find_all('td',class_='views-field views-field-title')\n",
    "\n",
    "    \n",
    "\n",
    "Url=soup.find_all('td',class_='views-field views-field-php')\n",
    "\n",
    "Date=soup.find_all('span', class_='date-display-single')\n",
    "\n",
    "Pagi=soup.find_all('li',class_='pager-item')\n"
   ]
  },
  {
   "cell_type": "code",
   "execution_count": 96,
   "metadata": {},
   "outputs": [],
   "source": [
    "Title1=[]\n",
    "URl=[]\n",
    "Date_coll=[]"
   ]
  },
  {
   "cell_type": "code",
   "execution_count": 97,
   "metadata": {},
   "outputs": [],
   "source": [
    "for x in Title:\n",
    "    t=x.string\n",
    "    Title1.append(t)"
   ]
  },
  {
   "cell_type": "code",
   "execution_count": 98,
   "metadata": {},
   "outputs": [],
   "source": [
    "for y in Date:\n",
    "    Date_coll.append(y.string)\n",
    "   \n"
   ]
  },
  {
   "cell_type": "code",
   "execution_count": 100,
   "metadata": {},
   "outputs": [],
   "source": [
    "for z in Url:\n",
    "    r=z.find('a')['href']\n",
    "    URl.append(r)"
   ]
  },
  {
   "cell_type": "code",
   "execution_count": 101,
   "metadata": {},
   "outputs": [],
   "source": [
    "page_url=[]\n",
    "for z in Pagi:\n",
    "    page_url.append(z.find('a')['href'])\n",
    "   "
   ]
  },
  {
   "cell_type": "code",
   "execution_count": 102,
   "metadata": {},
   "outputs": [],
   "source": [
    "for i in page_url:\n",
    "    url='https://main.trai.gov.in'+i\n",
    "    webpage = requests.get(url, headers=headers )\n",
    "    soup = BeautifulSoup(webpage.content, \"html.parser\")\n",
    "    Title=soup.find_all('td',class_='views-field views-field-title')\n",
    "    Url=soup.find_all('td',class_='views-field views-field-php')\n",
    "    Date=soup.find_all('span', class_='date-display-single')\n",
    "    for x in Title:\n",
    "        t=x.string\n",
    "        Title1.append(t)\n",
    "    for z in Url:\n",
    "        r=z.find('a')['href']\n",
    "        URl.append(r)\n",
    "        \n",
    "    for y in Date:\n",
    "        Date_coll.append(y.string)\n"
   ]
  },
  {
   "cell_type": "code",
   "execution_count": 105,
   "metadata": {},
   "outputs": [],
   "source": [
    "column_name=['S.No','Title','Pdf_Link','Date']\n",
    "S_No = [x for x in range(1, df.shape[0]+1)]"
   ]
  },
  {
   "cell_type": "code",
   "execution_count": 106,
   "metadata": {},
   "outputs": [],
   "source": [
    "df=pd.DataFrame(columns=column_name)\n",
    "df['Title']=Title1\n",
    "df['Date']=Date_coll\n",
    "df['Pdf_Link'] = URl\n",
    "df['S.No'] = S_No"
   ]
  },
  {
   "cell_type": "code",
   "execution_count": 107,
   "metadata": {},
   "outputs": [],
   "source": [
    "df.set_index('S.No', inplace=True)"
   ]
  },
  {
   "cell_type": "code",
   "execution_count": 109,
   "metadata": {},
   "outputs": [
    {
     "data": {
      "text/html": [
       "<div>\n",
       "<style scoped>\n",
       "    .dataframe tbody tr th:only-of-type {\n",
       "        vertical-align: middle;\n",
       "    }\n",
       "\n",
       "    .dataframe tbody tr th {\n",
       "        vertical-align: top;\n",
       "    }\n",
       "\n",
       "    .dataframe thead th {\n",
       "        text-align: right;\n",
       "    }\n",
       "</style>\n",
       "<table border=\"1\" class=\"dataframe\">\n",
       "  <thead>\n",
       "    <tr style=\"text-align: right;\">\n",
       "      <th></th>\n",
       "      <th>Title</th>\n",
       "      <th>Pdf_Link</th>\n",
       "      <th>Date</th>\n",
       "    </tr>\n",
       "    <tr>\n",
       "      <th>S.No</th>\n",
       "      <th></th>\n",
       "      <th></th>\n",
       "      <th></th>\n",
       "    </tr>\n",
       "  </thead>\n",
       "  <tbody>\n",
       "    <tr>\n",
       "      <th>1</th>\n",
       "      <td>Press Release on Telecom Subscrip...</td>\n",
       "      <td>https://main.trai.gov.in/sites/default/files/P...</td>\n",
       "      <td>18/01/2019</td>\n",
       "    </tr>\n",
       "    <tr>\n",
       "      <th>2</th>\n",
       "      <td>Press Release on Consumer choices...</td>\n",
       "      <td>https://main.trai.gov.in/sites/default/files/P...</td>\n",
       "      <td>10/01/2019</td>\n",
       "    </tr>\n",
       "    <tr>\n",
       "      <th>3</th>\n",
       "      <td>Press Release on Implementation o...</td>\n",
       "      <td>https://main.trai.gov.in/sites/default/files/P...</td>\n",
       "      <td>08/01/2019</td>\n",
       "    </tr>\n",
       "    <tr>\n",
       "      <th>4</th>\n",
       "      <td>Press Release on Indian Telecom S...</td>\n",
       "      <td>https://main.trai.gov.in/sites/default/files/P...</td>\n",
       "      <td>08/01/2019</td>\n",
       "    </tr>\n",
       "    <tr>\n",
       "      <th>5</th>\n",
       "      <td>Press Release on Telecom Subscrip...</td>\n",
       "      <td>https://main.trai.gov.in/sites/default/files/P...</td>\n",
       "      <td>02/01/2019</td>\n",
       "    </tr>\n",
       "  </tbody>\n",
       "</table>\n",
       "</div>"
      ],
      "text/plain": [
       "                                                  Title  \\\n",
       "S.No                                                      \n",
       "1                  Press Release on Telecom Subscrip...   \n",
       "2                  Press Release on Consumer choices...   \n",
       "3                  Press Release on Implementation o...   \n",
       "4                  Press Release on Indian Telecom S...   \n",
       "5                  Press Release on Telecom Subscrip...   \n",
       "\n",
       "                                               Pdf_Link        Date  \n",
       "S.No                                                                 \n",
       "1     https://main.trai.gov.in/sites/default/files/P...  18/01/2019  \n",
       "2     https://main.trai.gov.in/sites/default/files/P...  10/01/2019  \n",
       "3     https://main.trai.gov.in/sites/default/files/P...  08/01/2019  \n",
       "4     https://main.trai.gov.in/sites/default/files/P...  08/01/2019  \n",
       "5     https://main.trai.gov.in/sites/default/files/P...  02/01/2019  "
      ]
     },
     "execution_count": 109,
     "metadata": {},
     "output_type": "execute_result"
    }
   ],
   "source": [
    "df.head()\n"
   ]
  },
  {
   "cell_type": "code",
   "execution_count": 110,
   "metadata": {},
   "outputs": [],
   "source": [
    "df.to_csv('assignment.csv')\n"
   ]
  },
  {
   "cell_type": "code",
   "execution_count": 111,
   "metadata": {},
   "outputs": [
    {
     "data": {
      "text/html": [
       "<div>\n",
       "<style scoped>\n",
       "    .dataframe tbody tr th:only-of-type {\n",
       "        vertical-align: middle;\n",
       "    }\n",
       "\n",
       "    .dataframe tbody tr th {\n",
       "        vertical-align: top;\n",
       "    }\n",
       "\n",
       "    .dataframe thead th {\n",
       "        text-align: right;\n",
       "    }\n",
       "</style>\n",
       "<table border=\"1\" class=\"dataframe\">\n",
       "  <thead>\n",
       "    <tr style=\"text-align: right;\">\n",
       "      <th></th>\n",
       "      <th>S.No</th>\n",
       "      <th>Title</th>\n",
       "      <th>Pdf_Link</th>\n",
       "      <th>Date</th>\n",
       "    </tr>\n",
       "  </thead>\n",
       "  <tbody>\n",
       "    <tr>\n",
       "      <th>0</th>\n",
       "      <td>1</td>\n",
       "      <td>Press Release on Telecom Subscrip...</td>\n",
       "      <td>https://main.trai.gov.in/sites/default/files/P...</td>\n",
       "      <td>18/01/2019</td>\n",
       "    </tr>\n",
       "    <tr>\n",
       "      <th>1</th>\n",
       "      <td>2</td>\n",
       "      <td>Press Release on Consumer choices...</td>\n",
       "      <td>https://main.trai.gov.in/sites/default/files/P...</td>\n",
       "      <td>10/01/2019</td>\n",
       "    </tr>\n",
       "    <tr>\n",
       "      <th>2</th>\n",
       "      <td>3</td>\n",
       "      <td>Press Release on Implementation o...</td>\n",
       "      <td>https://main.trai.gov.in/sites/default/files/P...</td>\n",
       "      <td>08/01/2019</td>\n",
       "    </tr>\n",
       "    <tr>\n",
       "      <th>3</th>\n",
       "      <td>4</td>\n",
       "      <td>Press Release on Indian Telecom S...</td>\n",
       "      <td>https://main.trai.gov.in/sites/default/files/P...</td>\n",
       "      <td>08/01/2019</td>\n",
       "    </tr>\n",
       "    <tr>\n",
       "      <th>4</th>\n",
       "      <td>5</td>\n",
       "      <td>Press Release on Telecom Subscrip...</td>\n",
       "      <td>https://main.trai.gov.in/sites/default/files/P...</td>\n",
       "      <td>02/01/2019</td>\n",
       "    </tr>\n",
       "  </tbody>\n",
       "</table>\n",
       "</div>"
      ],
      "text/plain": [
       "   S.No                                              Title  \\\n",
       "0     1               Press Release on Telecom Subscrip...   \n",
       "1     2               Press Release on Consumer choices...   \n",
       "2     3               Press Release on Implementation o...   \n",
       "3     4               Press Release on Indian Telecom S...   \n",
       "4     5               Press Release on Telecom Subscrip...   \n",
       "\n",
       "                                            Pdf_Link        Date  \n",
       "0  https://main.trai.gov.in/sites/default/files/P...  18/01/2019  \n",
       "1  https://main.trai.gov.in/sites/default/files/P...  10/01/2019  \n",
       "2  https://main.trai.gov.in/sites/default/files/P...  08/01/2019  \n",
       "3  https://main.trai.gov.in/sites/default/files/P...  08/01/2019  \n",
       "4  https://main.trai.gov.in/sites/default/files/P...  02/01/2019  "
      ]
     },
     "execution_count": 111,
     "metadata": {},
     "output_type": "execute_result"
    }
   ],
   "source": [
    "test = pd.read_csv('assignment.csv')\n",
    "test.head()"
   ]
  },
  {
   "cell_type": "code",
   "execution_count": null,
   "metadata": {},
   "outputs": [],
   "source": []
  }
 ],
 "metadata": {
  "kernelspec": {
   "display_name": "Python 3",
   "language": "python",
   "name": "python3"
  },
  "language_info": {
   "codemirror_mode": {
    "name": "ipython",
    "version": 3
   },
   "file_extension": ".py",
   "mimetype": "text/x-python",
   "name": "python",
   "nbconvert_exporter": "python",
   "pygments_lexer": "ipython3",
   "version": "3.6.4"
  }
 },
 "nbformat": 4,
 "nbformat_minor": 2
}
